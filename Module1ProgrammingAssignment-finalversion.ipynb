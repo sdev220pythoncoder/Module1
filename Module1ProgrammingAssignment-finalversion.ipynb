{
 "cells": [
  {
   "cell_type": "markdown",
   "id": "6a4d9eff-a196-4314-9d4e-c9389181a6fc",
   "metadata": {},
   "source": [
    "<h1>\n",
    "    Module 1 Programming Assignment - Numbers and Types\n",
    "</h1>"
   ]
  },
  {
   "cell_type": "markdown",
   "id": "0d2a2df0-9fc3-470e-8a01-2afd76306bc0",
   "metadata": {},
   "source": [
    "<div>\n",
    "    3.1 How many seconds are in an hour? Use the interactive interpreter as a calculator and multiply the number of seconds in a minute (60) by the number of minutes in an hour (also 60).\n",
    "</div>\n"
   ]
  },
  {
   "cell_type": "code",
   "execution_count": 78,
   "id": "b1fedd6b-6208-406b-8adf-4918df4e2eaf",
   "metadata": {},
   "outputs": [],
   "source": [
    "Seconds_Per_Minute=60"
   ]
  },
  {
   "cell_type": "code",
   "execution_count": 80,
   "id": "cdf5a197-09ef-4aec-b51f-0d8e59dd90eb",
   "metadata": {},
   "outputs": [],
   "source": [
    "Minutes_Per_Hour = 60"
   ]
  },
  {
   "cell_type": "code",
   "execution_count": 82,
   "id": "2f1dc72d-693f-482e-b04b-8c37c2cdce22",
   "metadata": {},
   "outputs": [
    {
     "data": {
      "text/plain": [
       "3600"
      ]
     },
     "execution_count": 82,
     "metadata": {},
     "output_type": "execute_result"
    }
   ],
   "source": [
    "Seconds_Per_Minute * Minutes_Per_Hour"
   ]
  },
  {
   "cell_type": "markdown",
   "id": "f711cb29-fcfd-4071-a229-441dc18fa3f4",
   "metadata": {},
   "source": [
    "<div>\n",
    "  3.2 Assign the result from the previous task (seconds in an hour) to a variable called seconds_per_hour.\n",
    "</div>"
   ]
  },
  {
   "cell_type": "code",
   "execution_count": 85,
   "id": "8b223bbb-a6d8-4679-a011-b799ca1fdf67",
   "metadata": {},
   "outputs": [],
   "source": [
    "Seconds_Per_Hour = Seconds_Per_Minute * Minutes_Per_Hour"
   ]
  },
  {
   "cell_type": "code",
   "execution_count": 87,
   "id": "485f0cdd-87a9-4ea3-a5ac-8ae58cad40bc",
   "metadata": {},
   "outputs": [
    {
     "data": {
      "text/plain": [
       "3600"
      ]
     },
     "execution_count": 87,
     "metadata": {},
     "output_type": "execute_result"
    }
   ],
   "source": [
    "Seconds_Per_Hour"
   ]
  },
  {
   "cell_type": "markdown",
   "id": "f73e0fa0-b296-4a49-880e-31507ca6bea0",
   "metadata": {},
   "source": [
    "<div>\n",
    "3.3 How many seconds are in a day? Use your seconds_per_hour variable.\n",
    "</div>"
   ]
  },
  {
   "cell_type": "code",
   "execution_count": 90,
   "id": "5e56dcc5-e7e0-4079-89d1-fe7c5cea57e5",
   "metadata": {},
   "outputs": [
    {
     "data": {
      "text/plain": [
       "86400"
      ]
     },
     "execution_count": 90,
     "metadata": {},
     "output_type": "execute_result"
    }
   ],
   "source": [
    "Seconds_Per_Hour * 24"
   ]
  },
  {
   "cell_type": "markdown",
   "id": "9dd9d457-0df5-4c49-93ef-f384af32e39d",
   "metadata": {},
   "source": [
    "<div>\n",
    "3.4 Calculate seconds per day again, but this time save the result in a variable called seconds_per_day.\n",
    "</div>"
   ]
  },
  {
   "cell_type": "code",
   "execution_count": 93,
   "id": "6c0f0272-86b4-48fd-b388-eb83315f49ef",
   "metadata": {},
   "outputs": [],
   "source": [
    "Seconds_Per_Day = Seconds_Per_Hour * 24"
   ]
  },
  {
   "cell_type": "code",
   "execution_count": 95,
   "id": "fc53c607-8508-47ba-ba81-03683929e8f5",
   "metadata": {},
   "outputs": [
    {
     "data": {
      "text/plain": [
       "86400"
      ]
     },
     "execution_count": 95,
     "metadata": {},
     "output_type": "execute_result"
    }
   ],
   "source": [
    "Seconds_Per_Day"
   ]
  },
  {
   "cell_type": "markdown",
   "id": "4c68b7a4-9c44-4e41-8015-901aec7eb56b",
   "metadata": {},
   "source": [
    "<div>\n",
    "3.5 Divide seconds_per_day by seconds_per_hour. Use floating-point (/) division.\n",
    "</div>"
   ]
  },
  {
   "cell_type": "code",
   "execution_count": 98,
   "id": "75c929c4-6b97-45eb-85ad-4e0823921abf",
   "metadata": {},
   "outputs": [
    {
     "data": {
      "text/plain": [
       "24.0"
      ]
     },
     "execution_count": 98,
     "metadata": {},
     "output_type": "execute_result"
    }
   ],
   "source": [
    "Seconds_Per_Day / Seconds_Per_Hour"
   ]
  },
  {
   "cell_type": "markdown",
   "id": "b9e29383-b884-4d65-972f-467bc8251b8c",
   "metadata": {},
   "source": [
    "<div>3.6 Divide seconds_per_day by seconds_per_hour, using integer (//) division. Did this number agree with the floating-point value from the previous question, aside from the final .0?</div>"
   ]
  },
  {
   "cell_type": "code",
   "execution_count": 101,
   "id": "ae4a1503-c3f2-4cef-bd84-bf426cfdaa94",
   "metadata": {},
   "outputs": [
    {
     "data": {
      "text/plain": [
       "24"
      ]
     },
     "execution_count": 101,
     "metadata": {},
     "output_type": "execute_result"
    }
   ],
   "source": [
    "Seconds_Per_Day // Seconds_Per_Hour"
   ]
  },
  {
   "cell_type": "markdown",
   "id": "51ee269f-1f1d-4d4d-91dc-ea4c41abbb19",
   "metadata": {},
   "source": [
    "<div>Yes, the number agress with the value from the previous question</div>"
   ]
  },
  {
   "cell_type": "code",
   "execution_count": null,
   "id": "f34fc4fd-9d32-4aaf-9ab2-a8a230b65a5b",
   "metadata": {},
   "outputs": [],
   "source": []
  },
  {
   "cell_type": "code",
   "execution_count": null,
   "id": "96789fd8-a2f4-4614-a5f1-30a1e5c5e1fb",
   "metadata": {},
   "outputs": [],
   "source": []
  }
 ],
 "metadata": {
  "kernelspec": {
   "display_name": "Python [conda env:base] *",
   "language": "python",
   "name": "conda-base-py"
  },
  "language_info": {
   "codemirror_mode": {
    "name": "ipython",
    "version": 3
   },
   "file_extension": ".py",
   "mimetype": "text/x-python",
   "name": "python",
   "nbconvert_exporter": "python",
   "pygments_lexer": "ipython3",
   "version": "3.12.7"
  }
 },
 "nbformat": 4,
 "nbformat_minor": 5
}
